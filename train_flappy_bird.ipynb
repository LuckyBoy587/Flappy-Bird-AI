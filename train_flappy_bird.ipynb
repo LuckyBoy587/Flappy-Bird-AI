{
 "cells": [
  {
   "cell_type": "code",
   "execution_count": null,
   "id": "57a5e693",
   "metadata": {},
   "outputs": [],
   "source": [
    "!git clone https://github.com/LuckyBoy587/Flappy-Bird-AI.git\n",
    "!cd Flappy-Bird-AI\n",
    "\n",
    "!pip install -q pygame==2.5.2 numpy==1.24.3 torch"
   ]
  },
  {
   "cell_type": "code",
   "execution_count": null,
   "id": "ef2a6259",
   "metadata": {},
   "outputs": [],
   "source": [
    "import os\n",
    "os.listdir()"
   ]
  },
  {
   "cell_type": "code",
   "execution_count": null,
   "id": "42c37e42",
   "metadata": {},
   "outputs": [],
   "source": [
    "from bird_ai import train_dqn\n",
    "train_dqn()"
   ]
  }
 ],
 "metadata": {
  "language_info": {
   "name": "python"
  }
 },
 "nbformat": 4,
 "nbformat_minor": 5
}
